{
 "cells": [
  {
   "cell_type": "raw",
   "id": "e5d32b9c-e608-4357-ad1b-b291611c8f0f",
   "metadata": {},
   "source": [
    "Q1) What is a database? Differentiate between SQL and NoSQL databases."
   ]
  },
  {
   "cell_type": "markdown",
   "id": "ef53a2da-1059-4a1a-bacc-ccb078f9a6a9",
   "metadata": {},
   "source": [
    "Ans)  A database is a structured collection of data that is organized and stored electronically in a computer system. It's designed to allow for easy retrieval, management, and manipulation of data.\n",
    "\n",
    "SQL Database:- \n",
    ". SQL databases are based on a structured schema where data is stored in tables with predefined schemas. These databases are relational, meaning they establish relationships between different tables.\n",
    "\n",
    ". They typically follow Atomicity, Consistency, Isolation, Durability (ACID) properties, ensuring data integrity, reliability, and consistency.\n",
    "\n",
    ". Examples: MySQL, PostgreSQL, SQLite, Microsoft SQL Server, Oracle.\n",
    "\n",
    "\n",
    "NoSQL Databases:-\n",
    ". NoSQL databases are schema-less or have a more flexible schema, allowing for the storage of unstructured or semi-structured data. They can handle    diverse data types and evolving schemas.\n",
    "\n",
    ". They are designed for horizontal scaling, meaning they can easily scale across multiple servers or nodes.\n",
    "\n",
    ". Some NoSQL databases prioritize availability and partition tolerance over strong consistency, providing eventual consistency where data may take time to propagate across nodes.\n",
    "\n",
    ".Examples: MongoDB, Redis, Cassandra, Neo4j"
   ]
  },
  {
   "cell_type": "raw",
   "id": "66ebba05-e00f-4a05-8558-dade8173d0c5",
   "metadata": {},
   "source": [
    "Q2) Q2. What is DDL? Explain why CREATE, DROP, ALTER, and TRUNCATE are used with an example."
   ]
  },
  {
   "cell_type": "markdown",
   "id": "747672e4-1ca8-4c72-b3e6-9934272cb9fd",
   "metadata": {},
   "source": [
    "Ans) DDL stands for Data Definition Language, which is a subset of SQL sed for defining and managing the structure of a database. DDL commands are responsible for creating, modifying, and deleting database objects like tables, indexes, and views.\n",
    "\n",
    "CREATE: The CREATE command is used to create new database objects, such as tables, views, indexes, or databases themselves.\n",
    "\n",
    "                                             CREATE TABLE Employees (\n",
    "                                             EmployeeID INT PRIMARY KEY,\n",
    "                                              FirstName VARCHAR(50),\n",
    "                                             LastName VARCHAR(50),\n",
    "                                             DepartmentID INT\n",
    "                                            );\n",
    "\n",
    "\n",
    "DROP:  The DROP command is used to remove existing database objects.\n",
    "\n",
    "        DROP TABLE Employees;\n",
    "\n",
    "ALTER: The ALTER command is used to modify the structure of existing database objects, such as tables or indexes.\n",
    " \n",
    "                                   ALTER TABLE Employees\n",
    "                                   ADD COLUMN Email VARCHAR(100);\n",
    "                                   \n",
    "\n",
    "TRUNCATE: The TRUNCATE command is used to remove all rows from a table while keeping the table structure intact.\n",
    "\n",
    "           TRUNCATE TABLE Employees;\n",
    "\n"
   ]
  },
  {
   "cell_type": "raw",
   "id": "91d15350-55a5-494b-b590-0b38e02cbcf8",
   "metadata": {},
   "source": [
    "Q3) Q3. What is DML? Explain INSERT, UPDATE, and DELETE with an example."
   ]
  },
  {
   "cell_type": "markdown",
   "id": "fdbcab2c-517a-420c-9de5-396628927839",
   "metadata": {},
   "source": [
    "Ans)  DML stands for Data Manipulation Language, a subset of SQL (Structured Query Language) used for manipulating data within a database. DML commands are responsible for inserting, updating, deleting, and retrieving data from database tables.\n",
    "\n",
    " Insert:- The INSERT command is used to add new records into a table.\n",
    "\n",
    "                        INSERT INTO Employees (EmployeeID, FirstName, LastName, DepartmentID)\n",
    "                        VALUES (1, 'John', 'Doe', 101);\n",
    "                    \n",
    "UPDATE: The UPDATE command is used to modify existing records in a table.\n",
    "\n",
    "                            UPDATE Employees\n",
    "                            SET DepartmentID = 102\n",
    "                            WHERE EmployeeID = 1;\n",
    "                            \n",
    "DELETE:- The DELETE command is used to remove records from a table.\n",
    "\n",
    "                       DELETE FROM Employees\n",
    "                        WHERE EmployeeID = 1;\n",
    "\n",
    "\n"
   ]
  },
  {
   "cell_type": "raw",
   "id": "5f59278d-d8c0-4682-8ba1-14d30a399443",
   "metadata": {},
   "source": [
    "Q4) What is DQL? Explain SELECT with an example."
   ]
  },
  {
   "cell_type": "markdown",
   "id": "0f2c6ed5-2bf1-4141-8279-f0f086795bd2",
   "metadata": {},
   "source": [
    "Ans) DQL stands for Data Query Language, which is a subset of SQL used specifically for querying or retrieving data from a database. DQL commands primarily consist of the SELECT statement, which allows users to retrieve specific information from database tables.\n",
    "\n",
    "SELECT: The SELECT statement is used to retrieve data from one or more tables in a database.\n",
    "\n",
    "                    SELECT FirstName, LastName, DepartmentID\n",
    "                    FROM Employees\n",
    "                    WHERE DepartmentID = 101;\n"
   ]
  },
  {
   "cell_type": "raw",
   "id": "0ceff183-26e5-4fab-aeb0-ebe17da69c2b",
   "metadata": {},
   "source": [
    "Q5) Explain Primary Key and Foreign Key."
   ]
  },
  {
   "cell_type": "markdown",
   "id": "222b2598-0bc9-497c-83b7-355edf4b0cf1",
   "metadata": {},
   "source": [
    "Ans) Primary Key: It's a column or a set of columns in a table that uniquely identifies each record or row. It ensures that each row in a table is distinctly identifiable and cannot contain duplicate or null values. The primary key constraint enforces this uniqueness, and it's often used as a reference point in other tables.\n",
    "\n",
    "Foreign Key: It's a column or a set of columns in a table that establishes a link or relationship between data in two tables. This key references the primary key of another table, defining a constraint that maintains referential integrity. It ensures that values in the foreign key column(s) must match values in the primary key column(s) of the related table or be null if the relationship allows it. Foreign keys are used to create relationships between tables in a database."
   ]
  },
  {
   "cell_type": "raw",
   "id": "116cc485-da66-41df-b4da-1a2166453d97",
   "metadata": {},
   "source": [
    "Q6) Write a python code to connect MySQL to python. Explain the cursor() and execute() method."
   ]
  },
  {
   "cell_type": "raw",
   "id": "4c4ca975-4856-4c34-9752-ad837b1cbe75",
   "metadata": {},
   "source": [
    "import mysql.connector\n",
    "\n",
    "mydb = mysql.connector.connect(\n",
    "    host=\"your_host\",\n",
    "    user=\"your_username\",\n",
    "    password=\"your_password\",\n",
    "    database=\"your_database_name\"\n",
    ")\n",
    "\n",
    "my_cursor = mydb.cursor()\n",
    "\n",
    "my_cursor.execute(\"SELECT * FROM your_table_name\")\n",
    "\n",
    "result = my_cursor.fetchall()\n",
    "\n",
    "for row in result:\n",
    "    print(row)\n",
    "\n",
    "mydb.close()\n"
   ]
  },
  {
   "cell_type": "markdown",
   "id": "99b17931-2020-448c-99dc-60ed5fe82af9",
   "metadata": {},
   "source": [
    "cursor(): This method creates a cursor object that enables you to interact with the database. The cursor is a control structure that allows traversal over the records in a database. It's used to execute SQL queries and fetch data from the result sets.\n",
    "\n",
    "execute(): This method of the cursor object is used to execute SQL queries or commands on the connected database. It takes a SQL query as a parameter and executes it on the connected database. For SELECT queries, after executing, you typically use methods like fetchall() or fetchone() to retrieve the query results."
   ]
  },
  {
   "cell_type": "raw",
   "id": "4163c586-0794-4cb3-8032-4f818b0353e4",
   "metadata": {},
   "source": [
    "Q7) Give the order of execution of SQL clauses in an SQL query."
   ]
  },
  {
   "cell_type": "markdown",
   "id": "6e184f83-2064-45ae-8c70-0aa8b0c9c46d",
   "metadata": {},
   "source": [
    "SELECT: This clause defines the columns or expressions to retrieve from the database.\n",
    "\n",
    "FROM: Specifies the table(s) or view(s) from which the data will be retrieved.\n",
    "\n",
    "WHERE: Filters the rows based on specified conditions. It limits the results to rows that meet the specified criteria.\n",
    "\n",
    "GROUP BY: Groups the resulting dataset based on specified columns. It's often used with aggregate functions like SUM, COUNT, AVG, etc.\n",
    "\n",
    "HAVING: Similar to the WHERE clause, but it filters groups based on conditions specified in the HAVING clause. It filters the grouped results.\n",
    "\n",
    "ORDER BY: Sorts the final result set based on specified columns or expressions, either in ascending (ASC) or descending (DESC) order.\n",
    "\n",
    "LIMIT/OFFSET: In some databases, these clauses are used for pagination, where LIMIT specifies the number of rows to return, and OFFSET specifies where to start returning rows."
   ]
  },
  {
   "cell_type": "code",
   "execution_count": null,
   "id": "d84f7ae3-62ae-4888-b417-ede5978d2b7f",
   "metadata": {},
   "outputs": [],
   "source": []
  }
 ],
 "metadata": {
  "kernelspec": {
   "display_name": "Python 3 (ipykernel)",
   "language": "python",
   "name": "python3"
  },
  "language_info": {
   "codemirror_mode": {
    "name": "ipython",
    "version": 3
   },
   "file_extension": ".py",
   "mimetype": "text/x-python",
   "name": "python",
   "nbconvert_exporter": "python",
   "pygments_lexer": "ipython3",
   "version": "3.10.8"
  }
 },
 "nbformat": 4,
 "nbformat_minor": 5
}
